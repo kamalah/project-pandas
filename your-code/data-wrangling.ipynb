{
 "cells": [
  {
   "cell_type": "code",
   "execution_count": 1,
   "metadata": {},
   "outputs": [],
   "source": [
    "import pandas as pd\n",
    "import numpy as np\n",
    "import re"
   ]
  },
  {
   "cell_type": "code",
   "execution_count": 2,
   "metadata": {},
   "outputs": [],
   "source": [
    "shark_attack = pd.read_csv('attacks.csv', encoding='latin_1')"
   ]
  },
  {
   "cell_type": "code",
   "execution_count": 3,
   "metadata": {},
   "outputs": [],
   "source": [
    "#strip spaces from column names (ie \"Sex \")\n",
    "shark_attack.columns = map(str.strip,shark_attack.columns)"
   ]
  },
  {
   "cell_type": "code",
   "execution_count": 4,
   "metadata": {},
   "outputs": [],
   "source": [
    "#Remove rows and columns that are not needed\n",
    "#remove rows where the Date/Year is N/A, I've prioritized knowing when the attack happened as being important\n",
    "shark_attack.dropna(subset=['Date','Year'], inplace=True)\n",
    "\n",
    "#Column Titles unclear and 99.9% of the data is null so they are dropped\n",
    "shark_attack.drop(columns=['Unnamed: 22', 'Unnamed: 23'], inplace=True)\n",
    "\n",
    "#href formula and href contain duplicate information. href has no null values so keeping href. Case Number.1 and Case Number.2 are duplicates of Case Number\n",
    "shark_attack.drop(columns=['href formula','Case Number.1','Case Number.2'], inplace=True)\n",
    "\n",
    "#\"pdf\" and \"original order\"  have no aded value, so bye-bye\n",
    "shark_attack.drop(columns=['pdf','original order'], inplace=True)"
   ]
  },
  {
   "cell_type": "code",
   "execution_count": 5,
   "metadata": {},
   "outputs": [],
   "source": [
    "#Clean up date column, only keep text in the format dd-MMM-yyyy\n",
    "shark_attack['Date'] = shark_attack['Date'].str.extract(r'\\b(\\d{2}-[a-zA-z]{3}-\\d{4})\\b', expand=False)\n",
    "\n",
    "# clean up time formatting, extract time in HHhmm format:\n",
    "shark_attack['Time'] = shark_attack['Time'].str.extract(r'\\b(\\d{2}h\\d{2})\\b', expand=False)"
   ]
  },
  {
   "cell_type": "code",
   "execution_count": 6,
   "metadata": {},
   "outputs": [],
   "source": [
    "# Fatal (Y/N) column has mix of true/false, yes, no, other data.  Standardize on Fatal Attack = 1, Non-Fatal Attack = 0, UNKNOWN =-1\n",
    "shark_attack.replace({'Fatal (Y/N)': r'\\b(Y|y|True)\\b'}, {'Fatal (Y/N)':1}, regex=True,inplace= True)\n",
    "shark_attack.replace({'Fatal (Y/N)': r'\\b(N|n|False)\\b'}, {'Fatal (Y/N)':0}, regex=True,inplace= True)\n",
    "shark_attack.replace({'Fatal (Y/N)': r'^[^01].*$'}, {'Fatal (Y/N)':-1}, regex=True,inplace= True)\n",
    "shark_attack.replace({'Fatal (Y/N)': ''}, {'Fatal (Y/N)':-1}, inplace= True)\n",
    "shark_attack['Fatal (Y/N)'].fillna(-1, inplace=True)"
   ]
  },
  {
   "cell_type": "code",
   "execution_count": 7,
   "metadata": {},
   "outputs": [],
   "source": [
    "#Clean up Sex column\n",
    "shark_attack.replace({'Sex': r'\\b(M|m)\\b'}, {'Sex':'M'}, regex=True,inplace= True)\n",
    "shark_attack.replace({'Sex': r'\\b(F|f)\\b'}, {'Sex':'F'}, regex=True,inplace= True)\n",
    "shark_attack.replace({'Sex': r'^[^MF].*$'}, {'Sex':''}, regex=True,inplace= True)"
   ]
  },
  {
   "cell_type": "code",
   "execution_count": 8,
   "metadata": {},
   "outputs": [],
   "source": [
    "#update data_types\n",
    "shark_attack['Year'] = shark_attack['Year'].astype('int64')\n",
    "shark_attack['Date'] = pd.to_datetime(shark_attack['Date'], errors=\"coerce\") # there was an attack in 1580 which is less than the 1677 allowed by pandas\n",
    "shark_attack['Time'] = pd.to_datetime(shark_attack['Time'], errors=\"coerce\",format = '%Hh%M').dt.time"
   ]
  },
  {
   "cell_type": "code",
   "execution_count": 9,
   "metadata": {},
   "outputs": [
    {
     "data": {
      "text/plain": [
       "Index(['Case Number', 'Date', 'Year', 'Type', 'Country', 'Area', 'Location',\n",
       "       'Activity', 'Name', 'Sex', 'Age', 'Injury', 'Fatal (Y/N)', 'Time',\n",
       "       'Species', 'Investigator or Source', 'href'],\n",
       "      dtype='object')"
      ]
     },
     "execution_count": 9,
     "metadata": {},
     "output_type": "execute_result"
    }
   ],
   "source": [
    "shark_attack.columns"
   ]
  },
  {
   "cell_type": "code",
   "execution_count": 13,
   "metadata": {},
   "outputs": [],
   "source": [
    "#rename columns\n",
    "shark_attack = shark_attack.rename(columns={'Sex': 'Gender', 'Fatal (Y/N)': 'Fatal'})"
   ]
  },
  {
   "cell_type": "code",
   "execution_count": 14,
   "metadata": {},
   "outputs": [],
   "source": [
    "#write out clean file to csv\n",
    "shark_attack.to_csv('shark_attack.csv',index=False)"
   ]
  },
  {
   "cell_type": "code",
   "execution_count": null,
   "metadata": {},
   "outputs": [],
   "source": []
  }
 ],
 "metadata": {
  "kernelspec": {
   "display_name": "Python 3",
   "language": "python",
   "name": "python3"
  },
  "language_info": {
   "codemirror_mode": {
    "name": "ipython",
    "version": 3
   },
   "file_extension": ".py",
   "mimetype": "text/x-python",
   "name": "python",
   "nbconvert_exporter": "python",
   "pygments_lexer": "ipython3",
   "version": "3.8.3"
  }
 },
 "nbformat": 4,
 "nbformat_minor": 4
}
